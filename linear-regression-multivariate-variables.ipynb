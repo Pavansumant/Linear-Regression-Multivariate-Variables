{
 "cells": [
  {
   "cell_type": "markdown",
   "id": "4391ac68",
   "metadata": {
    "papermill": {
     "duration": 0.005918,
     "end_time": "2023-01-15T09:39:25.390541",
     "exception": false,
     "start_time": "2023-01-15T09:39:25.384623",
     "status": "completed"
    },
    "tags": []
   },
   "source": [
    "# **Machine Learning With Python: Linear Regression Multiple Variables**"
   ]
  },
  {
   "cell_type": "markdown",
   "id": "894b0016",
   "metadata": {
    "papermill": {
     "duration": 0.006319,
     "end_time": "2023-01-15T09:39:25.402071",
     "exception": false,
     "start_time": "2023-01-15T09:39:25.395752",
     "status": "completed"
    },
    "tags": []
   },
   "source": [
    "Sample problem of predicting home price****"
   ]
  },
  {
   "cell_type": "markdown",
   "id": "40719e92",
   "metadata": {
    "papermill": {
     "duration": 0.004334,
     "end_time": "2023-01-15T09:39:25.412085",
     "exception": false,
     "start_time": "2023-01-15T09:39:25.407751",
     "status": "completed"
    },
    "tags": []
   },
   "source": [
    "Below is the table containing home prices . Here price depends on **area (square feet), bed rooms and age of the home (in years)**. Given these prices we have to predict prices of new homes based on area, bed rooms and age."
   ]
  },
  {
   "cell_type": "markdown",
   "id": "686efe90",
   "metadata": {
    "papermill": {
     "duration": 0.004246,
     "end_time": "2023-01-15T09:39:25.421273",
     "exception": false,
     "start_time": "2023-01-15T09:39:25.417027",
     "status": "completed"
    },
    "tags": []
   },
   "source": [
    "Here area, bedrooms, age are called independant variables or **features** whereas price is a dependant variable"
   ]
  },
  {
   "cell_type": "code",
   "execution_count": 1,
   "id": "ccb34498",
   "metadata": {
    "execution": {
     "iopub.execute_input": "2023-01-15T09:39:25.434927Z",
     "iopub.status.busy": "2023-01-15T09:39:25.433908Z",
     "iopub.status.idle": "2023-01-15T09:39:26.725279Z",
     "shell.execute_reply": "2023-01-15T09:39:26.723825Z"
    },
    "papermill": {
     "duration": 1.303197,
     "end_time": "2023-01-15T09:39:26.729125",
     "exception": false,
     "start_time": "2023-01-15T09:39:25.425928",
     "status": "completed"
    },
    "tags": []
   },
   "outputs": [],
   "source": [
    "import pandas as pd\n",
    "import numpy as np\n",
    "from sklearn import linear_model"
   ]
  },
  {
   "cell_type": "code",
   "execution_count": 2,
   "id": "d85d14d2",
   "metadata": {
    "execution": {
     "iopub.execute_input": "2023-01-15T09:39:26.740291Z",
     "iopub.status.busy": "2023-01-15T09:39:26.739808Z",
     "iopub.status.idle": "2023-01-15T09:39:26.777981Z",
     "shell.execute_reply": "2023-01-15T09:39:26.776540Z"
    },
    "papermill": {
     "duration": 0.047904,
     "end_time": "2023-01-15T09:39:26.781678",
     "exception": false,
     "start_time": "2023-01-15T09:39:26.733774",
     "status": "completed"
    },
    "scrolled": true,
    "tags": []
   },
   "outputs": [
    {
     "data": {
      "text/html": [
       "<div>\n",
       "<style scoped>\n",
       "    .dataframe tbody tr th:only-of-type {\n",
       "        vertical-align: middle;\n",
       "    }\n",
       "\n",
       "    .dataframe tbody tr th {\n",
       "        vertical-align: top;\n",
       "    }\n",
       "\n",
       "    .dataframe thead th {\n",
       "        text-align: right;\n",
       "    }\n",
       "</style>\n",
       "<table border=\"1\" class=\"dataframe\">\n",
       "  <thead>\n",
       "    <tr style=\"text-align: right;\">\n",
       "      <th></th>\n",
       "      <th>area</th>\n",
       "      <th>bedrooms</th>\n",
       "      <th>age</th>\n",
       "      <th>price</th>\n",
       "    </tr>\n",
       "  </thead>\n",
       "  <tbody>\n",
       "    <tr>\n",
       "      <th>0</th>\n",
       "      <td>2600</td>\n",
       "      <td>3.0</td>\n",
       "      <td>20</td>\n",
       "      <td>550000</td>\n",
       "    </tr>\n",
       "    <tr>\n",
       "      <th>1</th>\n",
       "      <td>3000</td>\n",
       "      <td>4.0</td>\n",
       "      <td>15</td>\n",
       "      <td>565000</td>\n",
       "    </tr>\n",
       "    <tr>\n",
       "      <th>2</th>\n",
       "      <td>3200</td>\n",
       "      <td>NaN</td>\n",
       "      <td>18</td>\n",
       "      <td>610000</td>\n",
       "    </tr>\n",
       "    <tr>\n",
       "      <th>3</th>\n",
       "      <td>3600</td>\n",
       "      <td>3.0</td>\n",
       "      <td>30</td>\n",
       "      <td>595000</td>\n",
       "    </tr>\n",
       "    <tr>\n",
       "      <th>4</th>\n",
       "      <td>4000</td>\n",
       "      <td>5.0</td>\n",
       "      <td>8</td>\n",
       "      <td>760000</td>\n",
       "    </tr>\n",
       "    <tr>\n",
       "      <th>5</th>\n",
       "      <td>4100</td>\n",
       "      <td>6.0</td>\n",
       "      <td>8</td>\n",
       "      <td>810000</td>\n",
       "    </tr>\n",
       "  </tbody>\n",
       "</table>\n",
       "</div>"
      ],
      "text/plain": [
       "   area  bedrooms  age   price\n",
       "0  2600       3.0   20  550000\n",
       "1  3000       4.0   15  565000\n",
       "2  3200       NaN   18  610000\n",
       "3  3600       3.0   30  595000\n",
       "4  4000       5.0    8  760000\n",
       "5  4100       6.0    8  810000"
      ]
     },
     "execution_count": 2,
     "metadata": {},
     "output_type": "execute_result"
    }
   ],
   "source": [
    "df = pd.read_csv('/kaggle/input/homesdatset/homeprices.csv')\n",
    "df"
   ]
  },
  {
   "cell_type": "markdown",
   "id": "2588b61c",
   "metadata": {
    "papermill": {
     "duration": 0.004603,
     "end_time": "2023-01-15T09:39:26.792159",
     "exception": false,
     "start_time": "2023-01-15T09:39:26.787556",
     "status": "completed"
    },
    "tags": []
   },
   "source": [
    "**Data Preprocessing: Fill NA values with median value of a column**"
   ]
  },
  {
   "cell_type": "code",
   "execution_count": 3,
   "id": "03dc7254",
   "metadata": {
    "execution": {
     "iopub.execute_input": "2023-01-15T09:39:26.803487Z",
     "iopub.status.busy": "2023-01-15T09:39:26.803036Z",
     "iopub.status.idle": "2023-01-15T09:39:26.814562Z",
     "shell.execute_reply": "2023-01-15T09:39:26.813132Z"
    },
    "papermill": {
     "duration": 0.020242,
     "end_time": "2023-01-15T09:39:26.817135",
     "exception": false,
     "start_time": "2023-01-15T09:39:26.796893",
     "status": "completed"
    },
    "tags": []
   },
   "outputs": [
    {
     "data": {
      "text/plain": [
       "area        0\n",
       "bedrooms    1\n",
       "age         0\n",
       "price       0\n",
       "dtype: int64"
      ]
     },
     "execution_count": 3,
     "metadata": {},
     "output_type": "execute_result"
    }
   ],
   "source": [
    "df.isna().sum()"
   ]
  },
  {
   "cell_type": "code",
   "execution_count": 4,
   "id": "41f3ad18",
   "metadata": {
    "execution": {
     "iopub.execute_input": "2023-01-15T09:39:26.829069Z",
     "iopub.status.busy": "2023-01-15T09:39:26.828585Z",
     "iopub.status.idle": "2023-01-15T09:39:26.842271Z",
     "shell.execute_reply": "2023-01-15T09:39:26.840772Z"
    },
    "papermill": {
     "duration": 0.022915,
     "end_time": "2023-01-15T09:39:26.844911",
     "exception": false,
     "start_time": "2023-01-15T09:39:26.821996",
     "status": "completed"
    },
    "tags": []
   },
   "outputs": [
    {
     "data": {
      "text/plain": [
       "4.0"
      ]
     },
     "execution_count": 4,
     "metadata": {},
     "output_type": "execute_result"
    }
   ],
   "source": [
    "df.bedrooms.median()"
   ]
  },
  {
   "cell_type": "code",
   "execution_count": 5,
   "id": "d0c7d855",
   "metadata": {
    "execution": {
     "iopub.execute_input": "2023-01-15T09:39:26.857201Z",
     "iopub.status.busy": "2023-01-15T09:39:26.856695Z",
     "iopub.status.idle": "2023-01-15T09:39:26.873158Z",
     "shell.execute_reply": "2023-01-15T09:39:26.871765Z"
    },
    "papermill": {
     "duration": 0.026023,
     "end_time": "2023-01-15T09:39:26.875775",
     "exception": false,
     "start_time": "2023-01-15T09:39:26.849752",
     "status": "completed"
    },
    "tags": []
   },
   "outputs": [
    {
     "data": {
      "text/html": [
       "<div>\n",
       "<style scoped>\n",
       "    .dataframe tbody tr th:only-of-type {\n",
       "        vertical-align: middle;\n",
       "    }\n",
       "\n",
       "    .dataframe tbody tr th {\n",
       "        vertical-align: top;\n",
       "    }\n",
       "\n",
       "    .dataframe thead th {\n",
       "        text-align: right;\n",
       "    }\n",
       "</style>\n",
       "<table border=\"1\" class=\"dataframe\">\n",
       "  <thead>\n",
       "    <tr style=\"text-align: right;\">\n",
       "      <th></th>\n",
       "      <th>area</th>\n",
       "      <th>bedrooms</th>\n",
       "      <th>age</th>\n",
       "      <th>price</th>\n",
       "    </tr>\n",
       "  </thead>\n",
       "  <tbody>\n",
       "    <tr>\n",
       "      <th>0</th>\n",
       "      <td>2600</td>\n",
       "      <td>3.0</td>\n",
       "      <td>20</td>\n",
       "      <td>550000</td>\n",
       "    </tr>\n",
       "    <tr>\n",
       "      <th>1</th>\n",
       "      <td>3000</td>\n",
       "      <td>4.0</td>\n",
       "      <td>15</td>\n",
       "      <td>565000</td>\n",
       "    </tr>\n",
       "    <tr>\n",
       "      <th>2</th>\n",
       "      <td>3200</td>\n",
       "      <td>4.0</td>\n",
       "      <td>18</td>\n",
       "      <td>610000</td>\n",
       "    </tr>\n",
       "    <tr>\n",
       "      <th>3</th>\n",
       "      <td>3600</td>\n",
       "      <td>3.0</td>\n",
       "      <td>30</td>\n",
       "      <td>595000</td>\n",
       "    </tr>\n",
       "    <tr>\n",
       "      <th>4</th>\n",
       "      <td>4000</td>\n",
       "      <td>5.0</td>\n",
       "      <td>8</td>\n",
       "      <td>760000</td>\n",
       "    </tr>\n",
       "    <tr>\n",
       "      <th>5</th>\n",
       "      <td>4100</td>\n",
       "      <td>6.0</td>\n",
       "      <td>8</td>\n",
       "      <td>810000</td>\n",
       "    </tr>\n",
       "  </tbody>\n",
       "</table>\n",
       "</div>"
      ],
      "text/plain": [
       "   area  bedrooms  age   price\n",
       "0  2600       3.0   20  550000\n",
       "1  3000       4.0   15  565000\n",
       "2  3200       4.0   18  610000\n",
       "3  3600       3.0   30  595000\n",
       "4  4000       5.0    8  760000\n",
       "5  4100       6.0    8  810000"
      ]
     },
     "execution_count": 5,
     "metadata": {},
     "output_type": "execute_result"
    }
   ],
   "source": [
    "df.bedrooms = df.bedrooms.fillna(df.bedrooms.median())\n",
    "df"
   ]
  },
  {
   "cell_type": "code",
   "execution_count": 6,
   "id": "7535dabb",
   "metadata": {
    "execution": {
     "iopub.execute_input": "2023-01-15T09:39:26.888030Z",
     "iopub.status.busy": "2023-01-15T09:39:26.887618Z",
     "iopub.status.idle": "2023-01-15T09:39:26.922218Z",
     "shell.execute_reply": "2023-01-15T09:39:26.921073Z"
    },
    "papermill": {
     "duration": 0.044766,
     "end_time": "2023-01-15T09:39:26.925511",
     "exception": false,
     "start_time": "2023-01-15T09:39:26.880745",
     "status": "completed"
    },
    "scrolled": true,
    "tags": []
   },
   "outputs": [
    {
     "data": {
      "text/plain": [
       "LinearRegression()"
      ]
     },
     "execution_count": 6,
     "metadata": {},
     "output_type": "execute_result"
    }
   ],
   "source": [
    "reg = linear_model.LinearRegression()\n",
    "reg.fit(df.drop('price',axis='columns'),df.price)"
   ]
  },
  {
   "cell_type": "code",
   "execution_count": 7,
   "id": "384fdfff",
   "metadata": {
    "execution": {
     "iopub.execute_input": "2023-01-15T09:39:26.942278Z",
     "iopub.status.busy": "2023-01-15T09:39:26.941828Z",
     "iopub.status.idle": "2023-01-15T09:39:26.950477Z",
     "shell.execute_reply": "2023-01-15T09:39:26.949302Z"
    },
    "papermill": {
     "duration": 0.02103,
     "end_time": "2023-01-15T09:39:26.953600",
     "exception": false,
     "start_time": "2023-01-15T09:39:26.932570",
     "status": "completed"
    },
    "tags": []
   },
   "outputs": [
    {
     "data": {
      "text/plain": [
       "array([  112.06244194, 23388.88007794, -3231.71790863])"
      ]
     },
     "execution_count": 7,
     "metadata": {},
     "output_type": "execute_result"
    }
   ],
   "source": [
    "reg.coef_"
   ]
  },
  {
   "cell_type": "code",
   "execution_count": 8,
   "id": "7994d338",
   "metadata": {
    "execution": {
     "iopub.execute_input": "2023-01-15T09:39:26.967387Z",
     "iopub.status.busy": "2023-01-15T09:39:26.966280Z",
     "iopub.status.idle": "2023-01-15T09:39:26.974183Z",
     "shell.execute_reply": "2023-01-15T09:39:26.972767Z"
    },
    "papermill": {
     "duration": 0.018667,
     "end_time": "2023-01-15T09:39:26.977800",
     "exception": false,
     "start_time": "2023-01-15T09:39:26.959133",
     "status": "completed"
    },
    "scrolled": true,
    "tags": []
   },
   "outputs": [
    {
     "data": {
      "text/plain": [
       "221323.00186540396"
      ]
     },
     "execution_count": 8,
     "metadata": {},
     "output_type": "execute_result"
    }
   ],
   "source": [
    "reg.intercept_"
   ]
  },
  {
   "cell_type": "markdown",
   "id": "a49a015f",
   "metadata": {
    "papermill": {
     "duration": 0.007305,
     "end_time": "2023-01-15T09:39:26.993672",
     "exception": false,
     "start_time": "2023-01-15T09:39:26.986367",
     "status": "completed"
    },
    "tags": []
   },
   "source": [
    "**Find price of home with 3000 sqr ft area, 3 bedrooms, 40 year old**"
   ]
  },
  {
   "cell_type": "code",
   "execution_count": 9,
   "id": "02333cd9",
   "metadata": {
    "execution": {
     "iopub.execute_input": "2023-01-15T09:39:27.009940Z",
     "iopub.status.busy": "2023-01-15T09:39:27.008967Z",
     "iopub.status.idle": "2023-01-15T09:39:27.023174Z",
     "shell.execute_reply": "2023-01-15T09:39:27.021940Z"
    },
    "papermill": {
     "duration": 0.024711,
     "end_time": "2023-01-15T09:39:27.026003",
     "exception": false,
     "start_time": "2023-01-15T09:39:27.001292",
     "status": "completed"
    },
    "tags": []
   },
   "outputs": [
    {
     "name": "stderr",
     "output_type": "stream",
     "text": [
      "/opt/conda/lib/python3.7/site-packages/sklearn/base.py:451: UserWarning: X does not have valid feature names, but LinearRegression was fitted with feature names\n",
      "  \"X does not have valid feature names, but\"\n"
     ]
    },
    {
     "data": {
      "text/plain": [
       "array([498408.25158031])"
      ]
     },
     "execution_count": 9,
     "metadata": {},
     "output_type": "execute_result"
    }
   ],
   "source": [
    "reg.predict([[3000, 3, 40]])"
   ]
  },
  {
   "cell_type": "markdown",
   "id": "b9f69554",
   "metadata": {
    "papermill": {
     "duration": 0.006896,
     "end_time": "2023-01-15T09:39:27.040069",
     "exception": false,
     "start_time": "2023-01-15T09:39:27.033173",
     "status": "completed"
    },
    "tags": []
   },
   "source": [
    "**Find price of home with 2500 sqr ft area, 4 bedrooms,  5 year old**"
   ]
  },
  {
   "cell_type": "code",
   "execution_count": 10,
   "id": "985e8ba3",
   "metadata": {
    "execution": {
     "iopub.execute_input": "2023-01-15T09:39:27.054055Z",
     "iopub.status.busy": "2023-01-15T09:39:27.053592Z",
     "iopub.status.idle": "2023-01-15T09:39:27.063364Z",
     "shell.execute_reply": "2023-01-15T09:39:27.061740Z"
    },
    "papermill": {
     "duration": 0.019803,
     "end_time": "2023-01-15T09:39:27.066167",
     "exception": false,
     "start_time": "2023-01-15T09:39:27.046364",
     "status": "completed"
    },
    "tags": []
   },
   "outputs": [
    {
     "name": "stderr",
     "output_type": "stream",
     "text": [
      "/opt/conda/lib/python3.7/site-packages/sklearn/base.py:451: UserWarning: X does not have valid feature names, but LinearRegression was fitted with feature names\n",
      "  \"X does not have valid feature names, but\"\n"
     ]
    },
    {
     "data": {
      "text/plain": [
       "array([578876.03748933])"
      ]
     },
     "execution_count": 10,
     "metadata": {},
     "output_type": "execute_result"
    }
   ],
   "source": [
    "reg.predict([[2500, 4, 5]])"
   ]
  }
 ],
 "metadata": {
  "kernelspec": {
   "display_name": "Python 3",
   "language": "python",
   "name": "python3"
  },
  "language_info": {
   "codemirror_mode": {
    "name": "ipython",
    "version": 3
   },
   "file_extension": ".py",
   "mimetype": "text/x-python",
   "name": "python",
   "nbconvert_exporter": "python",
   "pygments_lexer": "ipython3",
   "version": "3.7.12"
  },
  "papermill": {
   "default_parameters": {},
   "duration": 11.662174,
   "end_time": "2023-01-15T09:39:27.895757",
   "environment_variables": {},
   "exception": null,
   "input_path": "__notebook__.ipynb",
   "output_path": "__notebook__.ipynb",
   "parameters": {},
   "start_time": "2023-01-15T09:39:16.233583",
   "version": "2.3.4"
  }
 },
 "nbformat": 4,
 "nbformat_minor": 5
}
